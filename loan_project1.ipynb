{
 "cells": [
  {
   "cell_type": "markdown",
   "metadata": {},
   "source": [
    "# Prosper Load Data Analysis"
   ]
  },
  {
   "cell_type": "markdown",
   "metadata": {},
   "source": [
    "### Data Information:\n",
    "There are 113,937 loans in the dataset with 81 features. Most variables are both numeric and categorical in nature.\n",
    "\n",
    "The dataset features can be split into two main categories: Borrower information & Loan performance information.\n",
    "\n",
    "The analysis mainly focuses on the impacts to the loans by different variables, such as credit ratings, income, estimated returns and debt-income ratios etc."
   ]
  },
  {
   "cell_type": "code",
   "execution_count": 1,
   "metadata": {},
   "outputs": [],
   "source": [
    "# Importing needed libraries\n",
    "import numpy as np\n",
    "import pandas as pd\n",
    "import matplotlib.pyplot as plt\n",
    "import seaborn as sns\n",
    "import datetime\n",
    "\n",
    "import glob\n",
    "import os\n",
    "\n",
    "%matplotlib inline"
   ]
  },
  {
   "cell_type": "code",
   "execution_count": 2,
   "metadata": {},
   "outputs": [
    {
     "data": {
      "text/html": [
       "<div>\n",
       "<style scoped>\n",
       "    .dataframe tbody tr th:only-of-type {\n",
       "        vertical-align: middle;\n",
       "    }\n",
       "\n",
       "    .dataframe tbody tr th {\n",
       "        vertical-align: top;\n",
       "    }\n",
       "\n",
       "    .dataframe thead th {\n",
       "        text-align: right;\n",
       "    }\n",
       "</style>\n",
       "<table border=\"1\" class=\"dataframe\">\n",
       "  <thead>\n",
       "    <tr style=\"text-align: right;\">\n",
       "      <th></th>\n",
       "      <th>ListingKey</th>\n",
       "      <th>ListingNumber</th>\n",
       "      <th>ListingCreationDate</th>\n",
       "      <th>CreditGrade</th>\n",
       "      <th>Term</th>\n",
       "      <th>LoanStatus</th>\n",
       "      <th>ClosedDate</th>\n",
       "      <th>BorrowerAPR</th>\n",
       "      <th>BorrowerRate</th>\n",
       "      <th>LenderYield</th>\n",
       "      <th>...</th>\n",
       "      <th>LP_ServiceFees</th>\n",
       "      <th>LP_CollectionFees</th>\n",
       "      <th>LP_GrossPrincipalLoss</th>\n",
       "      <th>LP_NetPrincipalLoss</th>\n",
       "      <th>LP_NonPrincipalRecoverypayments</th>\n",
       "      <th>PercentFunded</th>\n",
       "      <th>Recommendations</th>\n",
       "      <th>InvestmentFromFriendsCount</th>\n",
       "      <th>InvestmentFromFriendsAmount</th>\n",
       "      <th>Investors</th>\n",
       "    </tr>\n",
       "  </thead>\n",
       "  <tbody>\n",
       "    <tr>\n",
       "      <th>0</th>\n",
       "      <td>1021339766868145413AB3B</td>\n",
       "      <td>193129</td>\n",
       "      <td>2007-08-26 19:09:29.263000000</td>\n",
       "      <td>C</td>\n",
       "      <td>36</td>\n",
       "      <td>Completed</td>\n",
       "      <td>2009-08-14 00:00:00</td>\n",
       "      <td>0.16516</td>\n",
       "      <td>0.1580</td>\n",
       "      <td>0.1380</td>\n",
       "      <td>...</td>\n",
       "      <td>-133.18</td>\n",
       "      <td>0.0</td>\n",
       "      <td>0.0</td>\n",
       "      <td>0.0</td>\n",
       "      <td>0.0</td>\n",
       "      <td>1.0</td>\n",
       "      <td>0</td>\n",
       "      <td>0</td>\n",
       "      <td>0.0</td>\n",
       "      <td>258</td>\n",
       "    </tr>\n",
       "    <tr>\n",
       "      <th>1</th>\n",
       "      <td>10273602499503308B223C1</td>\n",
       "      <td>1209647</td>\n",
       "      <td>2014-02-27 08:28:07.900000000</td>\n",
       "      <td>NaN</td>\n",
       "      <td>36</td>\n",
       "      <td>Current</td>\n",
       "      <td>NaN</td>\n",
       "      <td>0.12016</td>\n",
       "      <td>0.0920</td>\n",
       "      <td>0.0820</td>\n",
       "      <td>...</td>\n",
       "      <td>0.00</td>\n",
       "      <td>0.0</td>\n",
       "      <td>0.0</td>\n",
       "      <td>0.0</td>\n",
       "      <td>0.0</td>\n",
       "      <td>1.0</td>\n",
       "      <td>0</td>\n",
       "      <td>0</td>\n",
       "      <td>0.0</td>\n",
       "      <td>1</td>\n",
       "    </tr>\n",
       "    <tr>\n",
       "      <th>2</th>\n",
       "      <td>0EE9337825851032864889A</td>\n",
       "      <td>81716</td>\n",
       "      <td>2007-01-05 15:00:47.090000000</td>\n",
       "      <td>HR</td>\n",
       "      <td>36</td>\n",
       "      <td>Completed</td>\n",
       "      <td>2009-12-17 00:00:00</td>\n",
       "      <td>0.28269</td>\n",
       "      <td>0.2750</td>\n",
       "      <td>0.2400</td>\n",
       "      <td>...</td>\n",
       "      <td>-24.20</td>\n",
       "      <td>0.0</td>\n",
       "      <td>0.0</td>\n",
       "      <td>0.0</td>\n",
       "      <td>0.0</td>\n",
       "      <td>1.0</td>\n",
       "      <td>0</td>\n",
       "      <td>0</td>\n",
       "      <td>0.0</td>\n",
       "      <td>41</td>\n",
       "    </tr>\n",
       "    <tr>\n",
       "      <th>3</th>\n",
       "      <td>0EF5356002482715299901A</td>\n",
       "      <td>658116</td>\n",
       "      <td>2012-10-22 11:02:35.010000000</td>\n",
       "      <td>NaN</td>\n",
       "      <td>36</td>\n",
       "      <td>Current</td>\n",
       "      <td>NaN</td>\n",
       "      <td>0.12528</td>\n",
       "      <td>0.0974</td>\n",
       "      <td>0.0874</td>\n",
       "      <td>...</td>\n",
       "      <td>-108.01</td>\n",
       "      <td>0.0</td>\n",
       "      <td>0.0</td>\n",
       "      <td>0.0</td>\n",
       "      <td>0.0</td>\n",
       "      <td>1.0</td>\n",
       "      <td>0</td>\n",
       "      <td>0</td>\n",
       "      <td>0.0</td>\n",
       "      <td>158</td>\n",
       "    </tr>\n",
       "    <tr>\n",
       "      <th>4</th>\n",
       "      <td>0F023589499656230C5E3E2</td>\n",
       "      <td>909464</td>\n",
       "      <td>2013-09-14 18:38:39.097000000</td>\n",
       "      <td>NaN</td>\n",
       "      <td>36</td>\n",
       "      <td>Current</td>\n",
       "      <td>NaN</td>\n",
       "      <td>0.24614</td>\n",
       "      <td>0.2085</td>\n",
       "      <td>0.1985</td>\n",
       "      <td>...</td>\n",
       "      <td>-60.27</td>\n",
       "      <td>0.0</td>\n",
       "      <td>0.0</td>\n",
       "      <td>0.0</td>\n",
       "      <td>0.0</td>\n",
       "      <td>1.0</td>\n",
       "      <td>0</td>\n",
       "      <td>0</td>\n",
       "      <td>0.0</td>\n",
       "      <td>20</td>\n",
       "    </tr>\n",
       "  </tbody>\n",
       "</table>\n",
       "<p>5 rows × 81 columns</p>\n",
       "</div>"
      ],
      "text/plain": [
       "                ListingKey  ListingNumber            ListingCreationDate  \\\n",
       "0  1021339766868145413AB3B         193129  2007-08-26 19:09:29.263000000   \n",
       "1  10273602499503308B223C1        1209647  2014-02-27 08:28:07.900000000   \n",
       "2  0EE9337825851032864889A          81716  2007-01-05 15:00:47.090000000   \n",
       "3  0EF5356002482715299901A         658116  2012-10-22 11:02:35.010000000   \n",
       "4  0F023589499656230C5E3E2         909464  2013-09-14 18:38:39.097000000   \n",
       "\n",
       "  CreditGrade  Term LoanStatus           ClosedDate  BorrowerAPR  \\\n",
       "0           C    36  Completed  2009-08-14 00:00:00      0.16516   \n",
       "1         NaN    36    Current                  NaN      0.12016   \n",
       "2          HR    36  Completed  2009-12-17 00:00:00      0.28269   \n",
       "3         NaN    36    Current                  NaN      0.12528   \n",
       "4         NaN    36    Current                  NaN      0.24614   \n",
       "\n",
       "   BorrowerRate  LenderYield  ...  LP_ServiceFees  LP_CollectionFees  \\\n",
       "0        0.1580       0.1380  ...         -133.18                0.0   \n",
       "1        0.0920       0.0820  ...            0.00                0.0   \n",
       "2        0.2750       0.2400  ...          -24.20                0.0   \n",
       "3        0.0974       0.0874  ...         -108.01                0.0   \n",
       "4        0.2085       0.1985  ...          -60.27                0.0   \n",
       "\n",
       "   LP_GrossPrincipalLoss  LP_NetPrincipalLoss LP_NonPrincipalRecoverypayments  \\\n",
       "0                    0.0                  0.0                             0.0   \n",
       "1                    0.0                  0.0                             0.0   \n",
       "2                    0.0                  0.0                             0.0   \n",
       "3                    0.0                  0.0                             0.0   \n",
       "4                    0.0                  0.0                             0.0   \n",
       "\n",
       "   PercentFunded  Recommendations InvestmentFromFriendsCount  \\\n",
       "0            1.0                0                          0   \n",
       "1            1.0                0                          0   \n",
       "2            1.0                0                          0   \n",
       "3            1.0                0                          0   \n",
       "4            1.0                0                          0   \n",
       "\n",
       "  InvestmentFromFriendsAmount Investors  \n",
       "0                         0.0       258  \n",
       "1                         0.0         1  \n",
       "2                         0.0        41  \n",
       "3                         0.0       158  \n",
       "4                         0.0        20  \n",
       "\n",
       "[5 rows x 81 columns]"
      ]
     },
     "execution_count": 2,
     "metadata": {},
     "output_type": "execute_result"
    }
   ],
   "source": [
    "# Importing the data file\n",
    "df = pd.read_csv('prosperLoanData.csv')\n",
    "df.head()"
   ]
  },
  {
   "cell_type": "code",
   "execution_count": 3,
   "metadata": {},
   "outputs": [
    {
     "name": "stdout",
     "output_type": "stream",
     "text": [
      "<class 'pandas.core.frame.DataFrame'>\n",
      "RangeIndex: 113937 entries, 0 to 113936\n",
      "Data columns (total 81 columns):\n",
      "ListingKey                             113937 non-null object\n",
      "ListingNumber                          113937 non-null int64\n",
      "ListingCreationDate                    113937 non-null object\n",
      "CreditGrade                            28953 non-null object\n",
      "Term                                   113937 non-null int64\n",
      "LoanStatus                             113937 non-null object\n",
      "ClosedDate                             55089 non-null object\n",
      "BorrowerAPR                            113912 non-null float64\n",
      "BorrowerRate                           113937 non-null float64\n",
      "LenderYield                            113937 non-null float64\n",
      "EstimatedEffectiveYield                84853 non-null float64\n",
      "EstimatedLoss                          84853 non-null float64\n",
      "EstimatedReturn                        84853 non-null float64\n",
      "ProsperRating (numeric)                84853 non-null float64\n",
      "ProsperRating (Alpha)                  84853 non-null object\n",
      "ProsperScore                           84853 non-null float64\n",
      "ListingCategory (numeric)              113937 non-null int64\n",
      "BorrowerState                          108422 non-null object\n",
      "Occupation                             110349 non-null object\n",
      "EmploymentStatus                       111682 non-null object\n",
      "EmploymentStatusDuration               106312 non-null float64\n",
      "IsBorrowerHomeowner                    113937 non-null bool\n",
      "CurrentlyInGroup                       113937 non-null bool\n",
      "GroupKey                               13341 non-null object\n",
      "DateCreditPulled                       113937 non-null object\n",
      "CreditScoreRangeLower                  113346 non-null float64\n",
      "CreditScoreRangeUpper                  113346 non-null float64\n",
      "FirstRecordedCreditLine                113240 non-null object\n",
      "CurrentCreditLines                     106333 non-null float64\n",
      "OpenCreditLines                        106333 non-null float64\n",
      "TotalCreditLinespast7years             113240 non-null float64\n",
      "OpenRevolvingAccounts                  113937 non-null int64\n",
      "OpenRevolvingMonthlyPayment            113937 non-null float64\n",
      "InquiriesLast6Months                   113240 non-null float64\n",
      "TotalInquiries                         112778 non-null float64\n",
      "CurrentDelinquencies                   113240 non-null float64\n",
      "AmountDelinquent                       106315 non-null float64\n",
      "DelinquenciesLast7Years                112947 non-null float64\n",
      "PublicRecordsLast10Years               113240 non-null float64\n",
      "PublicRecordsLast12Months              106333 non-null float64\n",
      "RevolvingCreditBalance                 106333 non-null float64\n",
      "BankcardUtilization                    106333 non-null float64\n",
      "AvailableBankcardCredit                106393 non-null float64\n",
      "TotalTrades                            106393 non-null float64\n",
      "TradesNeverDelinquent (percentage)     106393 non-null float64\n",
      "TradesOpenedLast6Months                106393 non-null float64\n",
      "DebtToIncomeRatio                      105383 non-null float64\n",
      "IncomeRange                            113937 non-null object\n",
      "IncomeVerifiable                       113937 non-null bool\n",
      "StatedMonthlyIncome                    113937 non-null float64\n",
      "LoanKey                                113937 non-null object\n",
      "TotalProsperLoans                      22085 non-null float64\n",
      "TotalProsperPaymentsBilled             22085 non-null float64\n",
      "OnTimeProsperPayments                  22085 non-null float64\n",
      "ProsperPaymentsLessThanOneMonthLate    22085 non-null float64\n",
      "ProsperPaymentsOneMonthPlusLate        22085 non-null float64\n",
      "ProsperPrincipalBorrowed               22085 non-null float64\n",
      "ProsperPrincipalOutstanding            22085 non-null float64\n",
      "ScorexChangeAtTimeOfListing            18928 non-null float64\n",
      "LoanCurrentDaysDelinquent              113937 non-null int64\n",
      "LoanFirstDefaultedCycleNumber          16952 non-null float64\n",
      "LoanMonthsSinceOrigination             113937 non-null int64\n",
      "LoanNumber                             113937 non-null int64\n",
      "LoanOriginalAmount                     113937 non-null int64\n",
      "LoanOriginationDate                    113937 non-null object\n",
      "LoanOriginationQuarter                 113937 non-null object\n",
      "MemberKey                              113937 non-null object\n",
      "MonthlyLoanPayment                     113937 non-null float64\n",
      "LP_CustomerPayments                    113937 non-null float64\n",
      "LP_CustomerPrincipalPayments           113937 non-null float64\n",
      "LP_InterestandFees                     113937 non-null float64\n",
      "LP_ServiceFees                         113937 non-null float64\n",
      "LP_CollectionFees                      113937 non-null float64\n",
      "LP_GrossPrincipalLoss                  113937 non-null float64\n",
      "LP_NetPrincipalLoss                    113937 non-null float64\n",
      "LP_NonPrincipalRecoverypayments        113937 non-null float64\n",
      "PercentFunded                          113937 non-null float64\n",
      "Recommendations                        113937 non-null int64\n",
      "InvestmentFromFriendsCount             113937 non-null int64\n",
      "InvestmentFromFriendsAmount            113937 non-null float64\n",
      "Investors                              113937 non-null int64\n",
      "dtypes: bool(3), float64(50), int64(11), object(17)\n",
      "memory usage: 68.1+ MB\n"
     ]
    }
   ],
   "source": [
    "df.info()"
   ]
  },
  {
   "cell_type": "code",
   "execution_count": 4,
   "metadata": {},
   "outputs": [
    {
     "data": {
      "text/html": [
       "<div>\n",
       "<style scoped>\n",
       "    .dataframe tbody tr th:only-of-type {\n",
       "        vertical-align: middle;\n",
       "    }\n",
       "\n",
       "    .dataframe tbody tr th {\n",
       "        vertical-align: top;\n",
       "    }\n",
       "\n",
       "    .dataframe thead th {\n",
       "        text-align: right;\n",
       "    }\n",
       "</style>\n",
       "<table border=\"1\" class=\"dataframe\">\n",
       "  <thead>\n",
       "    <tr style=\"text-align: right;\">\n",
       "      <th></th>\n",
       "      <th>ListingNumber</th>\n",
       "      <th>Term</th>\n",
       "      <th>BorrowerAPR</th>\n",
       "      <th>BorrowerRate</th>\n",
       "      <th>LenderYield</th>\n",
       "      <th>EstimatedEffectiveYield</th>\n",
       "      <th>EstimatedLoss</th>\n",
       "      <th>EstimatedReturn</th>\n",
       "      <th>ProsperRating (numeric)</th>\n",
       "      <th>ProsperScore</th>\n",
       "      <th>...</th>\n",
       "      <th>LP_ServiceFees</th>\n",
       "      <th>LP_CollectionFees</th>\n",
       "      <th>LP_GrossPrincipalLoss</th>\n",
       "      <th>LP_NetPrincipalLoss</th>\n",
       "      <th>LP_NonPrincipalRecoverypayments</th>\n",
       "      <th>PercentFunded</th>\n",
       "      <th>Recommendations</th>\n",
       "      <th>InvestmentFromFriendsCount</th>\n",
       "      <th>InvestmentFromFriendsAmount</th>\n",
       "      <th>Investors</th>\n",
       "    </tr>\n",
       "  </thead>\n",
       "  <tbody>\n",
       "    <tr>\n",
       "      <th>count</th>\n",
       "      <td>1.139370e+05</td>\n",
       "      <td>113937.000000</td>\n",
       "      <td>113912.000000</td>\n",
       "      <td>113937.000000</td>\n",
       "      <td>113937.000000</td>\n",
       "      <td>84853.000000</td>\n",
       "      <td>84853.000000</td>\n",
       "      <td>84853.000000</td>\n",
       "      <td>84853.000000</td>\n",
       "      <td>84853.000000</td>\n",
       "      <td>...</td>\n",
       "      <td>113937.000000</td>\n",
       "      <td>113937.000000</td>\n",
       "      <td>113937.000000</td>\n",
       "      <td>113937.000000</td>\n",
       "      <td>113937.000000</td>\n",
       "      <td>113937.000000</td>\n",
       "      <td>113937.000000</td>\n",
       "      <td>113937.000000</td>\n",
       "      <td>113937.000000</td>\n",
       "      <td>113937.000000</td>\n",
       "    </tr>\n",
       "    <tr>\n",
       "      <th>mean</th>\n",
       "      <td>6.278857e+05</td>\n",
       "      <td>40.830248</td>\n",
       "      <td>0.218828</td>\n",
       "      <td>0.192764</td>\n",
       "      <td>0.182701</td>\n",
       "      <td>0.168661</td>\n",
       "      <td>0.080306</td>\n",
       "      <td>0.096068</td>\n",
       "      <td>4.072243</td>\n",
       "      <td>5.950067</td>\n",
       "      <td>...</td>\n",
       "      <td>-54.725641</td>\n",
       "      <td>-14.242698</td>\n",
       "      <td>700.446342</td>\n",
       "      <td>681.420499</td>\n",
       "      <td>25.142686</td>\n",
       "      <td>0.998584</td>\n",
       "      <td>0.048027</td>\n",
       "      <td>0.023460</td>\n",
       "      <td>16.550751</td>\n",
       "      <td>80.475228</td>\n",
       "    </tr>\n",
       "    <tr>\n",
       "      <th>std</th>\n",
       "      <td>3.280762e+05</td>\n",
       "      <td>10.436212</td>\n",
       "      <td>0.080364</td>\n",
       "      <td>0.074818</td>\n",
       "      <td>0.074516</td>\n",
       "      <td>0.068467</td>\n",
       "      <td>0.046764</td>\n",
       "      <td>0.030403</td>\n",
       "      <td>1.673227</td>\n",
       "      <td>2.376501</td>\n",
       "      <td>...</td>\n",
       "      <td>60.675425</td>\n",
       "      <td>109.232758</td>\n",
       "      <td>2388.513831</td>\n",
       "      <td>2357.167068</td>\n",
       "      <td>275.657937</td>\n",
       "      <td>0.017919</td>\n",
       "      <td>0.332353</td>\n",
       "      <td>0.232412</td>\n",
       "      <td>294.545422</td>\n",
       "      <td>103.239020</td>\n",
       "    </tr>\n",
       "    <tr>\n",
       "      <th>min</th>\n",
       "      <td>4.000000e+00</td>\n",
       "      <td>12.000000</td>\n",
       "      <td>0.006530</td>\n",
       "      <td>0.000000</td>\n",
       "      <td>-0.010000</td>\n",
       "      <td>-0.182700</td>\n",
       "      <td>0.004900</td>\n",
       "      <td>-0.182700</td>\n",
       "      <td>1.000000</td>\n",
       "      <td>1.000000</td>\n",
       "      <td>...</td>\n",
       "      <td>-664.870000</td>\n",
       "      <td>-9274.750000</td>\n",
       "      <td>-94.200000</td>\n",
       "      <td>-954.550000</td>\n",
       "      <td>0.000000</td>\n",
       "      <td>0.700000</td>\n",
       "      <td>0.000000</td>\n",
       "      <td>0.000000</td>\n",
       "      <td>0.000000</td>\n",
       "      <td>1.000000</td>\n",
       "    </tr>\n",
       "    <tr>\n",
       "      <th>25%</th>\n",
       "      <td>4.009190e+05</td>\n",
       "      <td>36.000000</td>\n",
       "      <td>0.156290</td>\n",
       "      <td>0.134000</td>\n",
       "      <td>0.124200</td>\n",
       "      <td>0.115670</td>\n",
       "      <td>0.042400</td>\n",
       "      <td>0.074080</td>\n",
       "      <td>3.000000</td>\n",
       "      <td>4.000000</td>\n",
       "      <td>...</td>\n",
       "      <td>-73.180000</td>\n",
       "      <td>0.000000</td>\n",
       "      <td>0.000000</td>\n",
       "      <td>0.000000</td>\n",
       "      <td>0.000000</td>\n",
       "      <td>1.000000</td>\n",
       "      <td>0.000000</td>\n",
       "      <td>0.000000</td>\n",
       "      <td>0.000000</td>\n",
       "      <td>2.000000</td>\n",
       "    </tr>\n",
       "    <tr>\n",
       "      <th>50%</th>\n",
       "      <td>6.005540e+05</td>\n",
       "      <td>36.000000</td>\n",
       "      <td>0.209760</td>\n",
       "      <td>0.184000</td>\n",
       "      <td>0.173000</td>\n",
       "      <td>0.161500</td>\n",
       "      <td>0.072400</td>\n",
       "      <td>0.091700</td>\n",
       "      <td>4.000000</td>\n",
       "      <td>6.000000</td>\n",
       "      <td>...</td>\n",
       "      <td>-34.440000</td>\n",
       "      <td>0.000000</td>\n",
       "      <td>0.000000</td>\n",
       "      <td>0.000000</td>\n",
       "      <td>0.000000</td>\n",
       "      <td>1.000000</td>\n",
       "      <td>0.000000</td>\n",
       "      <td>0.000000</td>\n",
       "      <td>0.000000</td>\n",
       "      <td>44.000000</td>\n",
       "    </tr>\n",
       "    <tr>\n",
       "      <th>75%</th>\n",
       "      <td>8.926340e+05</td>\n",
       "      <td>36.000000</td>\n",
       "      <td>0.283810</td>\n",
       "      <td>0.250000</td>\n",
       "      <td>0.240000</td>\n",
       "      <td>0.224300</td>\n",
       "      <td>0.112000</td>\n",
       "      <td>0.116600</td>\n",
       "      <td>5.000000</td>\n",
       "      <td>8.000000</td>\n",
       "      <td>...</td>\n",
       "      <td>-13.920000</td>\n",
       "      <td>0.000000</td>\n",
       "      <td>0.000000</td>\n",
       "      <td>0.000000</td>\n",
       "      <td>0.000000</td>\n",
       "      <td>1.000000</td>\n",
       "      <td>0.000000</td>\n",
       "      <td>0.000000</td>\n",
       "      <td>0.000000</td>\n",
       "      <td>115.000000</td>\n",
       "    </tr>\n",
       "    <tr>\n",
       "      <th>max</th>\n",
       "      <td>1.255725e+06</td>\n",
       "      <td>60.000000</td>\n",
       "      <td>0.512290</td>\n",
       "      <td>0.497500</td>\n",
       "      <td>0.492500</td>\n",
       "      <td>0.319900</td>\n",
       "      <td>0.366000</td>\n",
       "      <td>0.283700</td>\n",
       "      <td>7.000000</td>\n",
       "      <td>11.000000</td>\n",
       "      <td>...</td>\n",
       "      <td>32.060000</td>\n",
       "      <td>0.000000</td>\n",
       "      <td>25000.000000</td>\n",
       "      <td>25000.000000</td>\n",
       "      <td>21117.900000</td>\n",
       "      <td>1.012500</td>\n",
       "      <td>39.000000</td>\n",
       "      <td>33.000000</td>\n",
       "      <td>25000.000000</td>\n",
       "      <td>1189.000000</td>\n",
       "    </tr>\n",
       "  </tbody>\n",
       "</table>\n",
       "<p>8 rows × 61 columns</p>\n",
       "</div>"
      ],
      "text/plain": [
       "       ListingNumber           Term    BorrowerAPR   BorrowerRate  \\\n",
       "count   1.139370e+05  113937.000000  113912.000000  113937.000000   \n",
       "mean    6.278857e+05      40.830248       0.218828       0.192764   \n",
       "std     3.280762e+05      10.436212       0.080364       0.074818   \n",
       "min     4.000000e+00      12.000000       0.006530       0.000000   \n",
       "25%     4.009190e+05      36.000000       0.156290       0.134000   \n",
       "50%     6.005540e+05      36.000000       0.209760       0.184000   \n",
       "75%     8.926340e+05      36.000000       0.283810       0.250000   \n",
       "max     1.255725e+06      60.000000       0.512290       0.497500   \n",
       "\n",
       "         LenderYield  EstimatedEffectiveYield  EstimatedLoss  EstimatedReturn  \\\n",
       "count  113937.000000             84853.000000   84853.000000     84853.000000   \n",
       "mean        0.182701                 0.168661       0.080306         0.096068   \n",
       "std         0.074516                 0.068467       0.046764         0.030403   \n",
       "min        -0.010000                -0.182700       0.004900        -0.182700   \n",
       "25%         0.124200                 0.115670       0.042400         0.074080   \n",
       "50%         0.173000                 0.161500       0.072400         0.091700   \n",
       "75%         0.240000                 0.224300       0.112000         0.116600   \n",
       "max         0.492500                 0.319900       0.366000         0.283700   \n",
       "\n",
       "       ProsperRating (numeric)  ProsperScore  ...  LP_ServiceFees  \\\n",
       "count             84853.000000  84853.000000  ...   113937.000000   \n",
       "mean                  4.072243      5.950067  ...      -54.725641   \n",
       "std                   1.673227      2.376501  ...       60.675425   \n",
       "min                   1.000000      1.000000  ...     -664.870000   \n",
       "25%                   3.000000      4.000000  ...      -73.180000   \n",
       "50%                   4.000000      6.000000  ...      -34.440000   \n",
       "75%                   5.000000      8.000000  ...      -13.920000   \n",
       "max                   7.000000     11.000000  ...       32.060000   \n",
       "\n",
       "       LP_CollectionFees  LP_GrossPrincipalLoss  LP_NetPrincipalLoss  \\\n",
       "count      113937.000000          113937.000000        113937.000000   \n",
       "mean          -14.242698             700.446342           681.420499   \n",
       "std           109.232758            2388.513831          2357.167068   \n",
       "min         -9274.750000             -94.200000          -954.550000   \n",
       "25%             0.000000               0.000000             0.000000   \n",
       "50%             0.000000               0.000000             0.000000   \n",
       "75%             0.000000               0.000000             0.000000   \n",
       "max             0.000000           25000.000000         25000.000000   \n",
       "\n",
       "       LP_NonPrincipalRecoverypayments  PercentFunded  Recommendations  \\\n",
       "count                    113937.000000  113937.000000    113937.000000   \n",
       "mean                         25.142686       0.998584         0.048027   \n",
       "std                         275.657937       0.017919         0.332353   \n",
       "min                           0.000000       0.700000         0.000000   \n",
       "25%                           0.000000       1.000000         0.000000   \n",
       "50%                           0.000000       1.000000         0.000000   \n",
       "75%                           0.000000       1.000000         0.000000   \n",
       "max                       21117.900000       1.012500        39.000000   \n",
       "\n",
       "       InvestmentFromFriendsCount  InvestmentFromFriendsAmount      Investors  \n",
       "count               113937.000000                113937.000000  113937.000000  \n",
       "mean                     0.023460                    16.550751      80.475228  \n",
       "std                      0.232412                   294.545422     103.239020  \n",
       "min                      0.000000                     0.000000       1.000000  \n",
       "25%                      0.000000                     0.000000       2.000000  \n",
       "50%                      0.000000                     0.000000      44.000000  \n",
       "75%                      0.000000                     0.000000     115.000000  \n",
       "max                     33.000000                 25000.000000    1189.000000  \n",
       "\n",
       "[8 rows x 61 columns]"
      ]
     },
     "execution_count": 4,
     "metadata": {},
     "output_type": "execute_result"
    }
   ],
   "source": [
    "df.describe()"
   ]
  },
  {
   "cell_type": "code",
   "execution_count": 5,
   "metadata": {},
   "outputs": [
    {
     "name": "stdout",
     "output_type": "stream",
     "text": [
      "<class 'pandas.core.frame.DataFrame'>\n",
      "RangeIndex: 113937 entries, 0 to 113936\n",
      "Data columns (total 81 columns):\n",
      "ListingKey                             113937 non-null object\n",
      "ListingNumber                          113937 non-null int64\n",
      "ListingCreationDate                    113937 non-null datetime64[ns]\n",
      "CreditGrade                            28953 non-null object\n",
      "Term                                   113937 non-null int64\n",
      "LoanStatus                             113937 non-null object\n",
      "ClosedDate                             55089 non-null datetime64[ns]\n",
      "BorrowerAPR                            113912 non-null float64\n",
      "BorrowerRate                           113937 non-null float64\n",
      "LenderYield                            113937 non-null float64\n",
      "EstimatedEffectiveYield                84853 non-null float64\n",
      "EstimatedLoss                          84853 non-null float64\n",
      "EstimatedReturn                        84853 non-null float64\n",
      "ProsperRating (numeric)                84853 non-null float64\n",
      "ProsperRating (Alpha)                  84853 non-null object\n",
      "ProsperScore                           84853 non-null float64\n",
      "ListingCategory (numeric)              113937 non-null int64\n",
      "BorrowerState                          108422 non-null object\n",
      "Occupation                             110349 non-null object\n",
      "EmploymentStatus                       111682 non-null object\n",
      "EmploymentStatusDuration               106312 non-null float64\n",
      "IsBorrowerHomeowner                    113937 non-null bool\n",
      "CurrentlyInGroup                       113937 non-null bool\n",
      "GroupKey                               13341 non-null object\n",
      "DateCreditPulled                       113937 non-null object\n",
      "CreditScoreRangeLower                  113346 non-null float64\n",
      "CreditScoreRangeUpper                  113346 non-null float64\n",
      "FirstRecordedCreditLine                113240 non-null object\n",
      "CurrentCreditLines                     106333 non-null float64\n",
      "OpenCreditLines                        106333 non-null float64\n",
      "TotalCreditLinespast7years             113240 non-null float64\n",
      "OpenRevolvingAccounts                  113937 non-null int64\n",
      "OpenRevolvingMonthlyPayment            113937 non-null float64\n",
      "InquiriesLast6Months                   113240 non-null float64\n",
      "TotalInquiries                         112778 non-null float64\n",
      "CurrentDelinquencies                   113240 non-null float64\n",
      "AmountDelinquent                       106315 non-null float64\n",
      "DelinquenciesLast7Years                112947 non-null float64\n",
      "PublicRecordsLast10Years               113240 non-null float64\n",
      "PublicRecordsLast12Months              106333 non-null float64\n",
      "RevolvingCreditBalance                 106333 non-null float64\n",
      "BankcardUtilization                    106333 non-null float64\n",
      "AvailableBankcardCredit                106393 non-null float64\n",
      "TotalTrades                            106393 non-null float64\n",
      "TradesNeverDelinquent (percentage)     106393 non-null float64\n",
      "TradesOpenedLast6Months                106393 non-null float64\n",
      "DebtToIncomeRatio                      105383 non-null float64\n",
      "IncomeRange                            113937 non-null object\n",
      "IncomeVerifiable                       113937 non-null bool\n",
      "StatedMonthlyIncome                    113937 non-null float64\n",
      "LoanKey                                113937 non-null object\n",
      "TotalProsperLoans                      22085 non-null float64\n",
      "TotalProsperPaymentsBilled             22085 non-null float64\n",
      "OnTimeProsperPayments                  22085 non-null float64\n",
      "ProsperPaymentsLessThanOneMonthLate    22085 non-null float64\n",
      "ProsperPaymentsOneMonthPlusLate        22085 non-null float64\n",
      "ProsperPrincipalBorrowed               22085 non-null float64\n",
      "ProsperPrincipalOutstanding            22085 non-null float64\n",
      "ScorexChangeAtTimeOfListing            18928 non-null float64\n",
      "LoanCurrentDaysDelinquent              113937 non-null int64\n",
      "LoanFirstDefaultedCycleNumber          16952 non-null float64\n",
      "LoanMonthsSinceOrigination             113937 non-null int64\n",
      "LoanNumber                             113937 non-null int64\n",
      "LoanOriginalAmount                     113937 non-null int64\n",
      "LoanOriginationDate                    113937 non-null object\n",
      "LoanOriginationQuarter                 113937 non-null object\n",
      "MemberKey                              113937 non-null object\n",
      "MonthlyLoanPayment                     113937 non-null float64\n",
      "LP_CustomerPayments                    113937 non-null float64\n",
      "LP_CustomerPrincipalPayments           113937 non-null float64\n",
      "LP_InterestandFees                     113937 non-null float64\n",
      "LP_ServiceFees                         113937 non-null float64\n",
      "LP_CollectionFees                      113937 non-null float64\n",
      "LP_GrossPrincipalLoss                  113937 non-null float64\n",
      "LP_NetPrincipalLoss                    113937 non-null float64\n",
      "LP_NonPrincipalRecoverypayments        113937 non-null float64\n",
      "PercentFunded                          113937 non-null float64\n",
      "Recommendations                        113937 non-null int64\n",
      "InvestmentFromFriendsCount             113937 non-null int64\n",
      "InvestmentFromFriendsAmount            113937 non-null float64\n",
      "Investors                              113937 non-null int64\n",
      "dtypes: bool(3), datetime64[ns](2), float64(50), int64(11), object(15)\n",
      "memory usage: 68.1+ MB\n"
     ]
    }
   ],
   "source": [
    "# Converting the datatype to datetime\n",
    "df['ListingCreationDate'] = pd.to_datetime(df['ListingCreationDate'])\n",
    "df['ClosedDate'] = pd.to_datetime(df['ClosedDate'])\n",
    "df.info()"
   ]
  },
  {
   "cell_type": "code",
   "execution_count": 6,
   "metadata": {},
   "outputs": [
    {
     "data": {
      "text/plain": [
       "113937"
      ]
     },
     "execution_count": 6,
     "metadata": {},
     "output_type": "execute_result"
    }
   ],
   "source": [
    "# Counting the duplicates\n",
    "df.duplicated('ListingKey').count()"
   ]
  },
  {
   "cell_type": "code",
   "execution_count": 7,
   "metadata": {},
   "outputs": [],
   "source": [
    "# replace NC with HR\n",
    "df['CreditGrade'].replace(['NC', 'HR'], 'E', inplace = True)\n",
    "\n",
    "# fill NA with empty strings\n",
    "df['ProsperRating (Alpha)'].fillna(\"\", inplace = True)\n",
    "df['CreditGrade'].fillna(\"\", inplace = True)\n",
    "\n",
    "# combine credit ratings\n",
    "df['ProsperRatingCombined'] = df['ProsperRating (Alpha)'] + df['CreditGrade']\n",
    "\n",
    "# drop rows with no credit ratings\n",
    "df = df.query(' ProsperRatingCombined != \"\"')\n",
    "# are the number of A and AA ratings the same before and after combining the columns?\n",
    "(df['ProsperRatingCombined'] == 'A').sum() == (df.CreditGrade == 'A').sum() + (df['ProsperRating (Alpha)'] == 'A').sum() and \\\n",
    "(df['ProsperRatingCombined'] == 'AA').sum() == (df.CreditGrade == 'AA').sum() + (df['ProsperRating (Alpha)'] == 'AA').sum()\n",
    "# convert string to ordinal category type\n",
    "ordinal_rating = ['AA', 'A', 'B', 'C', 'D', 'E']\n",
    "ordered_var = pd.api.types.CategoricalDtype(ordered = True, categories = ordinal_rating)\n",
    "df['ProsperRatingCombined'] = df['ProsperRatingCombined'].astype(ordered_var)"
   ]
  },
  {
   "cell_type": "markdown",
   "metadata": {},
   "source": [
    "### Univariable Analysis"
   ]
  },
  {
   "cell_type": "code",
   "execution_count": 8,
   "metadata": {},
   "outputs": [
    {
     "data": {
      "text/plain": [
       "(array([ 0,  1,  2,  3,  4,  5,  6,  7,  8,  9, 10, 11]),\n",
       " <a list of 12 Text xticklabel objects>)"
      ]
     },
     "execution_count": 8,
     "metadata": {},
     "output_type": "execute_result"
    },
    {
     "data": {
      "image/png": "[encoded data removed]",
      "text/plain": [
       "<Figure size 1080x576 with 1 Axes>"
      ]
     },
     "metadata": {
      "needs_background": "light"
     },
     "output_type": "display_data"
    }
   ],
   "source": [
    "# Making bar-chart to see the number of each loan status\n",
    "Status=df.LoanStatus.value_counts()\n",
    "color = sns.color_palette()[0]\n",
    "\n",
    "plt.figure(figsize=(15, 8))\n",
    "Status.plot(kind='bar', color=color);\n",
    "\n",
    "plt.title('Number of listings in each LoanStatus');\n",
    "plt.xlabel('Loan Status');\n",
    "plt.ylabel('Number of Listings');\n",
    "\n",
    "plt.xticks(rotation=90)"
   ]
  },
  {
   "cell_type": "code",
   "execution_count": 9,
   "metadata": {},
   "outputs": [
    {
     "data": {
      "text/plain": [
       "(0.21185661764705882, 0.08864182692307693)"
      ]
     },
     "execution_count": 9,
     "metadata": {},
     "output_type": "execute_result"
    }
   ],
   "source": [
    "Status['Chargedoff']/Status['Current'], Status['Defaulted']/Status['Current']"
   ]
  },
  {
   "cell_type": "markdown",
   "metadata": {},
   "source": [
    "Finding: \n",
    "\n",
    "The bar-chart above indicates that the numbers of each status of loans, of which about 12000 are Charged-off, namely 21% are unlikely to be collected, while about 5000 are Defaulted, it takes about 9%."
   ]
  },
  {
   "cell_type": "code",
   "execution_count": 10,
   "metadata": {},
   "outputs": [
    {
     "data": {
      "text/plain": [
       "(array([0, 1, 2]), <a list of 3 Text xticklabel objects>)"
      ]
     },
     "execution_count": 10,
     "metadata": {},
     "output_type": "execute_result"
    },
    {
     "data": {
      "image/png": "[encoded data removed]",
      "text/plain": [
       "<Figure size 720x576 with 1 Axes>"
      ]
     },
     "metadata": {
      "needs_background": "light"
     },
     "output_type": "display_data"
    }
   ],
   "source": [
    "# Term Distribution\n",
    "term=df.Term.value_counts()\n",
    "color = sns.color_palette()[0]\n",
    "\n",
    "plt.figure(figsize=(10, 8))\n",
    "term.plot(kind='bar', color=color);\n",
    "\n",
    "plt.title('total number of listing in each term');\n",
    "plt.xlabel('Term in months');\n",
    "plt.ylabel('Number of Listings');\n",
    "\n",
    "plt.xticks(rotation=90)"
   ]
  },
  {
   "cell_type": "markdown",
   "metadata": {},
   "source": [
    "Finding:\n",
    "\n",
    "The bar-chart above shows people prefer loans with 36 month payment range."
   ]
  },
  {
   "cell_type": "code",
   "execution_count": 11,
   "metadata": {},
   "outputs": [
    {
     "data": {
      "text/plain": [
       "<matplotlib.axes._subplots.AxesSubplot at 0x2ae9ad21ec8>"
      ]
     },
     "execution_count": 11,
     "metadata": {},
     "output_type": "execute_result"
    },
    {
     "data": {
      "image/png": "[encoded data removed]",
      "text/plain": [
       "<Figure size 432x288 with 1 Axes>"
      ]
     },
     "metadata": {
      "needs_background": "light"
     },
     "output_type": "display_data"
    }
   ],
   "source": [
    "# Imcome plot\n",
    "df.StatedMonthlyIncome.plot()"
   ]
  },
  {
   "cell_type": "markdown",
   "metadata": {},
   "source": [
    "Finding:\n",
    "\n",
    "The histogram shows the maximum of loan takers' monthly income is ranging between 50000 and 60000."
   ]
  },
  {
   "cell_type": "code",
   "execution_count": 12,
   "metadata": {},
   "outputs": [
    {
     "data": {
      "text/plain": [
       "(array([0, 1, 2, 3, 4, 5, 6]), <a list of 7 Text xticklabel objects>)"
      ]
     },
     "execution_count": 12,
     "metadata": {},
     "output_type": "execute_result"
    },
    {
     "data": {
      "image/png": "[encoded data removed]",
      "text/plain": [
       "<Figure size 720x360 with 1 Axes>"
      ]
     },
     "metadata": {
      "needs_background": "light"
     },
     "output_type": "display_data"
    }
   ],
   "source": [
    "# Plotting credit_grades\n",
    "Credit=df.CreditGrade .value_counts()\n",
    "plt.figure(figsize=(10, 5))\n",
    "Credit.plot(kind='bar', color=color);\n",
    "\n",
    "plt.title('Count');\n",
    "plt.xlabel('Credit_Grade');\n",
    "plt.ylabel('Number of Listings');\n",
    "\n",
    "plt.xticks(rotation=90)"
   ]
  },
  {
   "cell_type": "code",
   "execution_count": 13,
   "metadata": {},
   "outputs": [
    {
     "name": "stderr",
     "output_type": "stream",
     "text": [
      "C:\\Users\\Administrator\\Anaconda3\\lib\\site-packages\\numpy\\lib\\histograms.py:824: RuntimeWarning: invalid value encountered in greater_equal\n",
      "  keep = (tmp_a >= first_edge)\n",
      "C:\\Users\\Administrator\\Anaconda3\\lib\\site-packages\\numpy\\lib\\histograms.py:825: RuntimeWarning: invalid value encountered in less_equal\n",
      "  keep &= (tmp_a <= last_edge)\n"
     ]
    },
    {
     "data": {
      "text/plain": [
       "Text(0.5, 1.0, 'Distribution of Borrower Debt to Income Ratio')"
      ]
     },
     "execution_count": 13,
     "metadata": {},
     "output_type": "execute_result"
    },
    {
     "data": {
      "image/png": "[encoded data removed]",
      "text/plain": [
       "<Figure size 576x360 with 1 Axes>"
      ]
     },
     "metadata": {
      "needs_background": "light"
     },
     "output_type": "display_data"
    }
   ],
   "source": [
    "# Plotting Debt-Income Ratio\n",
    "plt.figure(figsize = [8,5])\n",
    "sns.distplot(df.DebtToIncomeRatio, kde = False, bins = 200)\n",
    "plt.xlim(-.1, 1)\n",
    "plt.xlabel('Debt to Income Ratio')\n",
    "plt.ylabel('Count')\n",
    "plt.title('Distribution of Borrower Debt to Income Ratio')"
   ]
  },
  {
   "cell_type": "markdown",
   "metadata": {},
   "source": [
    "Finding:\n",
    "\n",
    "Most loan takers have a debt-income ratio of 20%, the distribution skews to the right."
   ]
  },
  {
   "cell_type": "markdown",
   "metadata": {},
   "source": [
    "### Bivariable Analysis"
   ]
  },
  {
   "cell_type": "code",
   "execution_count": 14,
   "metadata": {},
   "outputs": [
    {
     "data": {
      "text/plain": [
       "Text(0.5, 1.0, 'Number of investors vs. BorrowerRate')"
      ]
     },
     "execution_count": 14,
     "metadata": {},
     "output_type": "execute_result"
    },
    {
     "data": {
      "image/png": "[encoded data removed]",
      "text/plain": [
       "<Figure size 432x288 with 2 Axes>"
      ]
     },
     "metadata": {
      "needs_background": "light"
     },
     "output_type": "display_data"
    }
   ],
   "source": [
    "# Plotting the number of investor and borrow rate\n",
    "df2 = df.loc[df.Investors.notnull()]\n",
    "\n",
    "# plots the hist2d graph \n",
    "plt.hist2d(data=df2, x='Investors', y='BorrowerRate', cmap = 'viridis_r', cmin = 0.5);\n",
    "plt.colorbar()\n",
    "\n",
    "plt.xlabel('number of investors')\n",
    "plt.ylabel('BorrowerRate')\n",
    "plt.title('Number of investors vs. BorrowerRate')"
   ]
  },
  {
   "cell_type": "markdown",
   "metadata": {},
   "source": [
    "Findling:\n",
    "\n",
    "The borrow rates are centered from 0.1 to 0.3, while the investor number is more spread out."
   ]
  },
  {
   "cell_type": "code",
   "execution_count": 15,
   "metadata": {},
   "outputs": [
    {
     "data": {
      "text/plain": [
       "Text(0.5, 1.0, 'Distribution of Borrower Incomes')"
      ]
     },
     "execution_count": 15,
     "metadata": {},
     "output_type": "execute_result"
    },
    {
     "data": {
      "image/png": "[encoded data removed]",
      "text/plain": [
       "<Figure size 576x360 with 1 Axes>"
      ]
     },
     "metadata": {
      "needs_background": "light"
     },
     "output_type": "display_data"
    }
   ],
   "source": [
    "df['IncomeRange'].replace(['Not employed', 'Not displayed'], '$0', inplace = True)\n",
    "# create ordinal categories for income\n",
    "ordinal_rating = ['$100,000+', '$75,000-99,999', '$50,000-74,999', '$25,000-49,999', '$1-24,999', '$0']\n",
    "ordered_var = pd.api.types.CategoricalDtype(ordered = True, categories = ordinal_rating)\n",
    "df['IncomeRange'] = df['IncomeRange'].astype(ordered_var)\n",
    "# Plotting the distribution of income\n",
    "plt.figure(figsize = [8, 5])\n",
    "sns.countplot(data = df, y = 'IncomeRange', color = color)\n",
    "plt.ylabel('Income Range')\n",
    "plt.xlabel('Count')\n",
    "plt.title('Distribution of Borrower Incomes')"
   ]
  },
  {
   "cell_type": "markdown",
   "metadata": {},
   "source": [
    "Finding:\n",
    "\n",
    "From the graph we can see that the majority of loan takers have an income range from 25000 to 50000."
   ]
  },
  {
   "cell_type": "code",
   "execution_count": 16,
   "metadata": {},
   "outputs": [
    {
     "data": {
      "text/plain": [
       "Text(0, 0.5, 'Borrower Income Range')"
      ]
     },
     "execution_count": 16,
     "metadata": {},
     "output_type": "execute_result"
    },
    {
     "data": {
      "image/png": "[encoded data removed]",
      "text/plain": [
       "<Figure size 720x576 with 1 Axes>"
      ]
     },
     "metadata": {
      "needs_background": "light"
     },
     "output_type": "display_data"
    }
   ],
   "source": [
    "# Clustered bar chart of Credit Rating and Income Range\n",
    "plt.figure(figsize = [10,8])\n",
    "\n",
    "ax = sns.countplot(data = df, y = 'IncomeRange', hue = 'ProsperRatingCombined',\n",
    "                   palette = 'Blues')\n",
    "\n",
    "ax.legend(title = 'Borrower Credit Rating')\n",
    "plt.title('Distribution of Income Ranges and Credit Ratings')\n",
    "plt.ylabel('Borrower Income Range')"
   ]
  },
  {
   "cell_type": "markdown",
   "metadata": {},
   "source": [
    "Finding:\n",
    "\n",
    "Most of the loan takers are set in the income range of 25000 to 74999, while with lower rating scores. Except for the 75000 100000 session."
   ]
  },
  {
   "cell_type": "markdown",
   "metadata": {},
   "source": [
    "### Multivariable Analysis"
   ]
  },
  {
   "cell_type": "code",
   "execution_count": 17,
   "metadata": {},
   "outputs": [
    {
     "data": {
      "text/plain": [
       "Text(0.5, 1, 'Heatmap of Median Estimated Returns by Credit Rating and Income Range')"
      ]
     },
     "execution_count": 17,
     "metadata": {},
     "output_type": "execute_result"
    },
    {
     "data": {
      "image/png": "[encoded data removed]",
      "text/plain": [
       "<Figure size 720x360 with 2 Axes>"
      ]
     },
     "metadata": {
      "needs_background": "light"
     },
     "output_type": "display_data"
    }
   ],
   "source": [
    "plt.figure(figsize = [10,5])\n",
    "\n",
    "cat_med = df.groupby(['ProsperRatingCombined', 'IncomeRange']).median()['EstimatedReturn']*100\n",
    "cat_med = cat_med.reset_index(name = 'EstimatedReturnMedian')\n",
    "cat_med = cat_med.pivot(index = 'IncomeRange', columns = 'ProsperRatingCombined', values = 'EstimatedReturnMedian')\n",
    "\n",
    "sns.heatmap(cat_med, annot = True, fmt = '.1f', cmap = \"Blues\", cbar_kws = {'label' : 'Median Estimated Return (%)'})\n",
    "plt.xlabel('Credit Rating')\n",
    "plt.ylabel('Income Range')\n",
    "plt.title('Heatmap of Median Estimated Returns by Credit Rating and Income Range')"
   ]
  },
  {
   "cell_type": "markdown",
   "metadata": {},
   "source": [
    "Finding:\n",
    "\n",
    "From the heatmap we can see that as the rating goes higher, the estimated return goes lower, so does income range, but not as obvious as credit rating does."
   ]
  }
 ],
 "metadata": {
  "kernelspec": {
   "display_name": "Python 3",
   "language": "python",
   "name": "python3"
  },
  "language_info": {
   "codemirror_mode": {
    "name": "ipython",
    "version": 3
   },
   "file_extension": ".py",
   "mimetype": "text/x-python",
   "name": "python",
   "nbconvert_exporter": "python",
   "pygments_lexer": "ipython3",
   "version": "3.7.4"
  }
 },
 "nbformat": 4,
 "nbformat_minor": 2
}
